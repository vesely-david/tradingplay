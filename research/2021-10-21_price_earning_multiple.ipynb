{
 "cells": [
  {
   "cell_type": "code",
   "execution_count": 1,
   "metadata": {},
   "outputs": [],
   "source": [
    "import finpie"
   ]
  },
  {
   "cell_type": "markdown",
   "metadata": {},
   "source": [
    "# Download AAPL Data\n"
   ]
  },
  {
   "cell_type": "markdown",
   "metadata": {},
   "source": [
    "# Income Statement"
   ]
  },
  {
   "cell_type": "code",
   "execution_count": 4,
   "metadata": {
    "pycharm": {
     "name": "#%%\n"
    }
   },
   "outputs": [],
   "source": [
    "ticker = 'AAPL'\n",
    "\n",
    "fd = finpie.Fundamentals(ticker, source='yahoo', freq='A')"
   ]
  },
  {
   "cell_type": "code",
   "execution_count": 6,
   "outputs": [],
   "source": [
    "key_metrics = fd.key_metrics()"
   ],
   "metadata": {
    "collapsed": false,
    "pycharm": {
     "name": "#%%\n"
    }
   }
  },
  {
   "cell_type": "code",
   "execution_count": 7,
   "outputs": [
    {
     "data": {
      "text/plain": "Index(['beta_(5y_monthly)', '52-week_change', 'sandp500_52-week_change',\n       '52_week_high', '52_week_low', '50-day_moving_average',\n       '200-day_moving_average', 'avg_vol_(3_month)', 'avg_vol_(10_day)',\n       'shares_outstanding', 'implied_shares_outstanding', 'float',\n       '%_held_by_insiders', '%_held_by_institutions',\n       'shares_short_(sep_29_2021)', 'short_ratio_(sep_29_2021)',\n       'short_%_of_float_(sep_29_2021)',\n       'short_%_of_shares_outstanding_(sep_29_2021)',\n       'shares_short_(prior_month_aug_30_2021)',\n       'forward_annual_dividend_rate', 'forward_annual_dividend_yield',\n       'trailing_annual_dividend_rate', 'trailing_annual_dividend_yield',\n       '5_year_average_dividend_yield', 'payout_ratio', 'dividend_date',\n       'ex-dividend_date', 'last_split_factor', 'last_split_date',\n       'fiscal_year_ends', 'most_recent_quarter_(mrq)', 'profit_margin',\n       'operating_margin_(ttm)', 'return_on_assets_(ttm)',\n       'return_on_equity_(ttm)', 'revenue_(ttm)', 'revenue_per_share_(ttm)',\n       'quarterly_revenue_growth_(yoy)', 'gross_profit_(ttm)', 'ebitda',\n       'net_income_avi_to_common_(ttm)', 'diluted_eps_(ttm)',\n       'quarterly_earnings_growth_(yoy)', 'total_cash_(mrq)',\n       'total_cash_per_share_(mrq)', 'total_debt_(mrq)',\n       'total_debtequity_(mrq)', 'current_ratio_(mrq)',\n       'book_value_per_share_(mrq)', 'operating_cash_flow_(ttm)',\n       'levered_free_cash_flow_(ttm)', 'ticker'],\n      dtype='object')"
     },
     "execution_count": 7,
     "metadata": {},
     "output_type": "execute_result"
    }
   ],
   "source": [
    "key_metrics.columns"
   ],
   "metadata": {
    "collapsed": false,
    "pycharm": {
     "name": "#%%\n"
    }
   }
  },
  {
   "cell_type": "code",
   "execution_count": 8,
   "outputs": [
    {
     "data": {
      "text/plain": "date\n2021-10-21    5.11\nName: diluted_eps_(ttm), dtype: float64"
     },
     "execution_count": 8,
     "metadata": {},
     "output_type": "execute_result"
    }
   ],
   "source": [
    "eps = key_metrics['diluted_eps_(ttm)']"
   ],
   "metadata": {
    "collapsed": false,
    "pycharm": {
     "name": "#%%\n"
    }
   }
  },
  {
   "cell_type": "code",
   "execution_count": 9,
   "outputs": [
    {
     "ename": "AttributeError",
     "evalue": "'FundamentalsClassB' object has no attribute 'ratios'",
     "output_type": "error",
     "traceback": [
      "\u001B[0;31m---------------------------------------------------------------------------\u001B[0m",
      "\u001B[0;31mAttributeError\u001B[0m                            Traceback (most recent call last)",
      "\u001B[0;32m/var/folders/kl/4jxgx39s7l7dj82yd4rmjvzc0000gp/T/ipykernel_17903/2849913112.py\u001B[0m in \u001B[0;36m<module>\u001B[0;34m\u001B[0m\n\u001B[0;32m----> 1\u001B[0;31m \u001B[0mfd\u001B[0m\u001B[0;34m.\u001B[0m\u001B[0mratios\u001B[0m\u001B[0;34m(\u001B[0m\u001B[0;34m)\u001B[0m\u001B[0;34m\u001B[0m\u001B[0;34m\u001B[0m\u001B[0m\n\u001B[0m",
      "\u001B[0;31mAttributeError\u001B[0m: 'FundamentalsClassB' object has no attribute 'ratios'"
     ]
    }
   ],
   "source": [
    "fd.ratios()"
   ],
   "metadata": {
    "collapsed": false,
    "pycharm": {
     "name": "#%%\n"
    }
   }
  },
  {
   "cell_type": "code",
   "execution_count": null,
   "outputs": [],
   "source": [],
   "metadata": {
    "collapsed": false,
    "pycharm": {
     "name": "#%%\n"
    }
   }
  }
 ],
 "metadata": {
  "hide_input": false,
  "kernelspec": {
   "name": "value-invest",
   "language": "python",
   "display_name": "value-invest"
  },
  "language_info": {
   "codemirror_mode": {
    "name": "ipython",
    "version": 3
   },
   "file_extension": ".py",
   "mimetype": "text/x-python",
   "name": "python",
   "nbconvert_exporter": "python",
   "pygments_lexer": "ipython3",
   "version": "3.6.12"
  },
  "toc": {
   "base_numbering": 1,
   "nav_menu": {},
   "number_sections": true,
   "sideBar": true,
   "skip_h1_title": false,
   "title_cell": "Table of Contents",
   "title_sidebar": "Contents",
   "toc_cell": false,
   "toc_position": {},
   "toc_section_display": true,
   "toc_window_display": false
  }
 },
 "nbformat": 4,
 "nbformat_minor": 4
}