{
 "cells": [
  {
   "cell_type": "markdown",
   "metadata": {
    "collapsed": true,
    "pycharm": {
     "name": "#%% md\n"
    }
   },
   "source": [
    "# Load Transactions"
   ]
  },
  {
   "cell_type": "code",
   "execution_count": 1,
   "outputs": [],
   "source": [
    "from pathlib import Path\n",
    "from datetime import datetime\n",
    "\n",
    "import pandas as pd\n",
    "\n",
    "path = Path('/Users/ab011sw/Documents/Personal/investments/coinmate.tsv')\n",
    "transactions = pd.read_csv(path, sep='\\t')\n",
    "transactions['Date'] = transactions['Date']\\\n",
    "    .apply(lambda x: datetime.strptime(x, '%d/%m/%Y'))"
   ],
   "metadata": {
    "collapsed": false,
    "pycharm": {
     "name": "#%%\n"
    }
   }
  },
  {
   "cell_type": "code",
   "execution_count": 2,
   "outputs": [
    {
     "data": {
      "text/plain": "        Date Code Currency         Price  Quantity Action        Fee\n0 2021-04-16  BTC      CZK  1,343,533.00  0.000104    buy   0.488247\n1 2020-08-17  BTC      CZK    270,156.00  0.044789   sell  14.519982\n2 2019-08-12  BTC      CZK    262,801.23  0.044789    buy  29.426432\n3 2019-08-07  BTC      CZK    275,123.00  0.042808   sell  14.132929\n4 2019-08-07  BTC      CZK    267,971.99  0.042808    buy  28.678302",
      "text/html": "<div>\n<style scoped>\n    .dataframe tbody tr th:only-of-type {\n        vertical-align: middle;\n    }\n\n    .dataframe tbody tr th {\n        vertical-align: top;\n    }\n\n    .dataframe thead th {\n        text-align: right;\n    }\n</style>\n<table border=\"1\" class=\"dataframe\">\n  <thead>\n    <tr style=\"text-align: right;\">\n      <th></th>\n      <th>Date</th>\n      <th>Code</th>\n      <th>Currency</th>\n      <th>Price</th>\n      <th>Quantity</th>\n      <th>Action</th>\n      <th>Fee</th>\n    </tr>\n  </thead>\n  <tbody>\n    <tr>\n      <th>0</th>\n      <td>2021-04-16</td>\n      <td>BTC</td>\n      <td>CZK</td>\n      <td>1,343,533.00</td>\n      <td>0.000104</td>\n      <td>buy</td>\n      <td>0.488247</td>\n    </tr>\n    <tr>\n      <th>1</th>\n      <td>2020-08-17</td>\n      <td>BTC</td>\n      <td>CZK</td>\n      <td>270,156.00</td>\n      <td>0.044789</td>\n      <td>sell</td>\n      <td>14.519982</td>\n    </tr>\n    <tr>\n      <th>2</th>\n      <td>2019-08-12</td>\n      <td>BTC</td>\n      <td>CZK</td>\n      <td>262,801.23</td>\n      <td>0.044789</td>\n      <td>buy</td>\n      <td>29.426432</td>\n    </tr>\n    <tr>\n      <th>3</th>\n      <td>2019-08-07</td>\n      <td>BTC</td>\n      <td>CZK</td>\n      <td>275,123.00</td>\n      <td>0.042808</td>\n      <td>sell</td>\n      <td>14.132929</td>\n    </tr>\n    <tr>\n      <th>4</th>\n      <td>2019-08-07</td>\n      <td>BTC</td>\n      <td>CZK</td>\n      <td>267,971.99</td>\n      <td>0.042808</td>\n      <td>buy</td>\n      <td>28.678302</td>\n    </tr>\n  </tbody>\n</table>\n</div>"
     },
     "execution_count": 2,
     "metadata": {},
     "output_type": "execute_result"
    }
   ],
   "source": [
    "transactions.head()"
   ],
   "metadata": {
    "collapsed": false,
    "pycharm": {
     "name": "#%%\n"
    }
   }
  },
  {
   "cell_type": "markdown",
   "source": [
    "# Load USD prices"
   ],
   "metadata": {
    "collapsed": false,
    "pycharm": {
     "name": "#%% md\n"
    }
   }
  },
  {
   "cell_type": "code",
   "execution_count": 62,
   "outputs": [
    {
     "name": "stdout",
     "output_type": "stream",
     "text": [
      "[*********************100%***********************]  1 of 1 completed\n"
     ]
    }
   ],
   "source": [
    "import yfinance as yf\n",
    "\n",
    "\n",
    "currencies = set(transactions['Currency'])\n",
    "\n",
    "prices_dict = {}\n",
    "for currency in currencies:\n",
    "    prices_dict[currency] = yf.download(currency,'2017-01-01','2021-12-15')"
   ],
   "metadata": {
    "collapsed": false,
    "pycharm": {
     "name": "#%%\n"
    }
   }
  },
  {
   "cell_type": "code",
   "execution_count": 7,
   "outputs": [
    {
     "name": "stdout",
     "output_type": "stream",
     "text": [
      "[*********************100%***********************]  1 of 1 completed\n",
      "\n",
      "1 Failed download:\n",
      "- CZK: No data found for this date range, symbol may be delisted\n"
     ]
    }
   ],
   "source": [
    "from datetime import timedelta\n",
    "import yfinance as yf\n",
    "\n",
    "for _, row in transactions.iterrows():\n",
    "    _date = row['Date']\n",
    "    ten_days = timedelta(days=10)\n",
    "    _date_min = (_date - ten_days).strftime('%Y-%m-%d')\n",
    "    _date_max = (_date + ten_days).strftime('%Y-%m-%d')\n",
    "    prices = yf.download(row['Currency'], start=_date_min, end=_date_max)\\\n",
    "        .reset_index()\n",
    "    break"
   ],
   "metadata": {
    "collapsed": false,
    "pycharm": {
     "name": "#%%\n"
    }
   }
  },
  {
   "cell_type": "code",
   "execution_count": 68,
   "outputs": [
    {
     "data": {
      "text/plain": "Date         2018-01-30 00:00:00\nOpen                        0.34\nHigh                        0.34\nLow                         0.34\nClose                       0.34\nAdj Close                   0.34\nVolume                         0\nName: 270, dtype: object"
     },
     "execution_count": 68,
     "metadata": {},
     "output_type": "execute_result"
    }
   ],
   "source": [
    "prices.iloc[(prices['Date'] - row['Date']).abs().argsort()[0]]"
   ],
   "metadata": {
    "collapsed": false,
    "pycharm": {
     "name": "#%%\n"
    }
   }
  },
  {
   "cell_type": "code",
   "execution_count": 9,
   "outputs": [
    {
     "data": {
      "text/plain": "('2021-04-06', '2021-04-26')"
     },
     "execution_count": 9,
     "metadata": {},
     "output_type": "execute_result"
    }
   ],
   "source": [
    "_date_min, _date_max\n"
   ],
   "metadata": {
    "collapsed": false,
    "pycharm": {
     "name": "#%%\n"
    }
   }
  },
  {
   "cell_type": "code",
   "execution_count": 16,
   "outputs": [
    {
     "name": "stdout",
     "output_type": "stream",
     "text": [
      "[*********************100%***********************]  1 of 1 completed\n"
     ]
    },
    {
     "data": {
      "text/plain": "                 Open       High        Low      Close  Adj Close  Volume\nDate                                                                     \n2021-04-05  22.171301  22.205000  21.989201  22.143999  22.143999       0\n2021-04-06  21.940001  22.087700  21.924900  21.981001  21.981001       0\n2021-04-07  21.908899  21.934999  21.666100  21.914000  21.914000       0\n2021-04-08  21.765100  21.805700  21.650801  21.764099  21.764099       0\n2021-04-09  21.661600  21.906200  21.642700  21.659800  21.659800       0\n2021-04-12  21.860001  21.973000  21.807199  21.845600  21.845600       0\n2021-04-13  21.826000  21.909000  21.642401  21.823999  21.823999       0\n2021-04-14  21.647600  21.700001  21.617001  21.662001  21.662001       0\n2021-04-15  21.625500  21.702999  21.570999  21.623699  21.623699       0\n2021-04-16  21.635000  21.693001  21.563101  21.646000  21.646000       0\n2021-04-19  21.659000  21.695000  21.482500  21.658400  21.658400       0\n2021-04-20  21.511101  21.548000  21.421801  21.509001  21.509001       0\n2021-04-21  21.530199  21.589001  21.455000  21.529800  21.529800       0\n2021-04-22  21.456800  21.542000  21.400200  21.468000  21.468000       0\n2021-04-23  21.500601  21.509001  21.365499  21.507299  21.507299       0",
      "text/html": "<div>\n<style scoped>\n    .dataframe tbody tr th:only-of-type {\n        vertical-align: middle;\n    }\n\n    .dataframe tbody tr th {\n        vertical-align: top;\n    }\n\n    .dataframe thead th {\n        text-align: right;\n    }\n</style>\n<table border=\"1\" class=\"dataframe\">\n  <thead>\n    <tr style=\"text-align: right;\">\n      <th></th>\n      <th>Open</th>\n      <th>High</th>\n      <th>Low</th>\n      <th>Close</th>\n      <th>Adj Close</th>\n      <th>Volume</th>\n    </tr>\n    <tr>\n      <th>Date</th>\n      <th></th>\n      <th></th>\n      <th></th>\n      <th></th>\n      <th></th>\n      <th></th>\n    </tr>\n  </thead>\n  <tbody>\n    <tr>\n      <th>2021-04-05</th>\n      <td>22.171301</td>\n      <td>22.205000</td>\n      <td>21.989201</td>\n      <td>22.143999</td>\n      <td>22.143999</td>\n      <td>0</td>\n    </tr>\n    <tr>\n      <th>2021-04-06</th>\n      <td>21.940001</td>\n      <td>22.087700</td>\n      <td>21.924900</td>\n      <td>21.981001</td>\n      <td>21.981001</td>\n      <td>0</td>\n    </tr>\n    <tr>\n      <th>2021-04-07</th>\n      <td>21.908899</td>\n      <td>21.934999</td>\n      <td>21.666100</td>\n      <td>21.914000</td>\n      <td>21.914000</td>\n      <td>0</td>\n    </tr>\n    <tr>\n      <th>2021-04-08</th>\n      <td>21.765100</td>\n      <td>21.805700</td>\n      <td>21.650801</td>\n      <td>21.764099</td>\n      <td>21.764099</td>\n      <td>0</td>\n    </tr>\n    <tr>\n      <th>2021-04-09</th>\n      <td>21.661600</td>\n      <td>21.906200</td>\n      <td>21.642700</td>\n      <td>21.659800</td>\n      <td>21.659800</td>\n      <td>0</td>\n    </tr>\n    <tr>\n      <th>2021-04-12</th>\n      <td>21.860001</td>\n      <td>21.973000</td>\n      <td>21.807199</td>\n      <td>21.845600</td>\n      <td>21.845600</td>\n      <td>0</td>\n    </tr>\n    <tr>\n      <th>2021-04-13</th>\n      <td>21.826000</td>\n      <td>21.909000</td>\n      <td>21.642401</td>\n      <td>21.823999</td>\n      <td>21.823999</td>\n      <td>0</td>\n    </tr>\n    <tr>\n      <th>2021-04-14</th>\n      <td>21.647600</td>\n      <td>21.700001</td>\n      <td>21.617001</td>\n      <td>21.662001</td>\n      <td>21.662001</td>\n      <td>0</td>\n    </tr>\n    <tr>\n      <th>2021-04-15</th>\n      <td>21.625500</td>\n      <td>21.702999</td>\n      <td>21.570999</td>\n      <td>21.623699</td>\n      <td>21.623699</td>\n      <td>0</td>\n    </tr>\n    <tr>\n      <th>2021-04-16</th>\n      <td>21.635000</td>\n      <td>21.693001</td>\n      <td>21.563101</td>\n      <td>21.646000</td>\n      <td>21.646000</td>\n      <td>0</td>\n    </tr>\n    <tr>\n      <th>2021-04-19</th>\n      <td>21.659000</td>\n      <td>21.695000</td>\n      <td>21.482500</td>\n      <td>21.658400</td>\n      <td>21.658400</td>\n      <td>0</td>\n    </tr>\n    <tr>\n      <th>2021-04-20</th>\n      <td>21.511101</td>\n      <td>21.548000</td>\n      <td>21.421801</td>\n      <td>21.509001</td>\n      <td>21.509001</td>\n      <td>0</td>\n    </tr>\n    <tr>\n      <th>2021-04-21</th>\n      <td>21.530199</td>\n      <td>21.589001</td>\n      <td>21.455000</td>\n      <td>21.529800</td>\n      <td>21.529800</td>\n      <td>0</td>\n    </tr>\n    <tr>\n      <th>2021-04-22</th>\n      <td>21.456800</td>\n      <td>21.542000</td>\n      <td>21.400200</td>\n      <td>21.468000</td>\n      <td>21.468000</td>\n      <td>0</td>\n    </tr>\n    <tr>\n      <th>2021-04-23</th>\n      <td>21.500601</td>\n      <td>21.509001</td>\n      <td>21.365499</td>\n      <td>21.507299</td>\n      <td>21.507299</td>\n      <td>0</td>\n    </tr>\n  </tbody>\n</table>\n</div>"
     },
     "execution_count": 16,
     "metadata": {},
     "output_type": "execute_result"
    }
   ],
   "source": [
    "\n",
    "yf.download('CZK=X', start=_date_min, end=_date_max)"
   ],
   "metadata": {
    "collapsed": false,
    "pycharm": {
     "name": "#%%\n"
    }
   }
  },
  {
   "cell_type": "code",
   "execution_count": null,
   "outputs": [],
   "source": [],
   "metadata": {
    "collapsed": false,
    "pycharm": {
     "name": "#%%\n"
    }
   }
  }
 ],
 "metadata": {
  "kernelspec": {
   "name": "value-invest",
   "language": "python",
   "display_name": "value-invest"
  },
  "language_info": {
   "codemirror_mode": {
    "name": "ipython",
    "version": 2
   },
   "file_extension": ".py",
   "mimetype": "text/x-python",
   "name": "python",
   "nbconvert_exporter": "python",
   "pygments_lexer": "ipython2",
   "version": "2.7.6"
  }
 },
 "nbformat": 4,
 "nbformat_minor": 0
}