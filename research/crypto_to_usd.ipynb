{
 "cells": [
  {
   "cell_type": "markdown",
   "metadata": {
    "collapsed": true,
    "pycharm": {
     "name": "#%% md\n"
    }
   },
   "source": [
    "# Load Transactions"
   ]
  },
  {
   "cell_type": "code",
   "execution_count": 22,
   "outputs": [],
   "source": [
    "from pathlib import Path\n",
    "from datetime import datetime\n",
    "\n",
    "import pandas as pd\n",
    "\n",
    "\n",
    "def str2float(x):\n",
    "    if not isinstance(x, str):\n",
    "        return float(x)\n",
    "    return float(x.replace(',', ''))\n",
    "\n",
    "path = Path('/Users/ab011sw/Documents/Personal/investments/coinmate.tsv')\n",
    "path = Path('/Users/ab011sw/Documents/Personal/investments/bittrex.tsv')\n",
    "path = Path('/Users/ab011sw/Documents/Personal/investments/binance.tsv')\n",
    "\n",
    "transactions = pd.read_csv(path, sep='\\t')\n",
    "transactions['Date'] = transactions['Date']\\\n",
    "    .apply(lambda x: datetime.strptime(x, '%d/%m/%Y'))\\\n",
    "\n",
    "transactions['Price'] = transactions['Price'].apply(str2float)\n",
    "transactions['Fee'] = transactions['Fee'].apply(str2float)"
   ],
   "metadata": {
    "collapsed": false,
    "pycharm": {
     "name": "#%%\n"
    }
   }
  },
  {
   "cell_type": "code",
   "execution_count": 23,
   "outputs": [
    {
     "data": {
      "text/plain": "        Date      Code Currency     Price  Quantity Action  Fee\n0 2017-12-19  BTC-IOTA      BTC  0.000319        39    buy  0.0\n1 2017-12-29   BTC-TRX      BTC  0.000002      6050    buy  0.0",
      "text/html": "<div>\n<style scoped>\n    .dataframe tbody tr th:only-of-type {\n        vertical-align: middle;\n    }\n\n    .dataframe tbody tr th {\n        vertical-align: top;\n    }\n\n    .dataframe thead th {\n        text-align: right;\n    }\n</style>\n<table border=\"1\" class=\"dataframe\">\n  <thead>\n    <tr style=\"text-align: right;\">\n      <th></th>\n      <th>Date</th>\n      <th>Code</th>\n      <th>Currency</th>\n      <th>Price</th>\n      <th>Quantity</th>\n      <th>Action</th>\n      <th>Fee</th>\n    </tr>\n  </thead>\n  <tbody>\n    <tr>\n      <th>0</th>\n      <td>2017-12-19</td>\n      <td>BTC-IOTA</td>\n      <td>BTC</td>\n      <td>0.000319</td>\n      <td>39</td>\n      <td>buy</td>\n      <td>0.0</td>\n    </tr>\n    <tr>\n      <th>1</th>\n      <td>2017-12-29</td>\n      <td>BTC-TRX</td>\n      <td>BTC</td>\n      <td>0.000002</td>\n      <td>6050</td>\n      <td>buy</td>\n      <td>0.0</td>\n    </tr>\n  </tbody>\n</table>\n</div>"
     },
     "execution_count": 23,
     "metadata": {},
     "output_type": "execute_result"
    }
   ],
   "source": [
    "transactions.head()"
   ],
   "metadata": {
    "collapsed": false,
    "pycharm": {
     "name": "#%%\n"
    }
   }
  },
  {
   "cell_type": "markdown",
   "source": [
    "# Process Data"
   ],
   "metadata": {
    "collapsed": false,
    "pycharm": {
     "name": "#%% md\n"
    }
   }
  },
  {
   "cell_type": "code",
   "execution_count": 24,
   "outputs": [
    {
     "name": "stdout",
     "output_type": "stream",
     "text": [
      "[*********************100%***********************]  1 of 1 completed\n",
      "[*********************100%***********************]  1 of 1 completed\n",
      "[*********************100%***********************]  1 of 1 completed\n"
     ]
    },
    {
     "data": {
      "text/plain": "        Date      Code Currency     Price Quantity Action  Fee\n0 2017-12-19  BTC-IOTA      USD  5.670767       39    buy  0.0\n1 2017-12-29   BTC-TRX      USD  0.035468     6050    buy  0.0",
      "text/html": "<div>\n<style scoped>\n    .dataframe tbody tr th:only-of-type {\n        vertical-align: middle;\n    }\n\n    .dataframe tbody tr th {\n        vertical-align: top;\n    }\n\n    .dataframe thead th {\n        text-align: right;\n    }\n</style>\n<table border=\"1\" class=\"dataframe\">\n  <thead>\n    <tr style=\"text-align: right;\">\n      <th></th>\n      <th>Date</th>\n      <th>Code</th>\n      <th>Currency</th>\n      <th>Price</th>\n      <th>Quantity</th>\n      <th>Action</th>\n      <th>Fee</th>\n    </tr>\n  </thead>\n  <tbody>\n    <tr>\n      <th>0</th>\n      <td>2017-12-19</td>\n      <td>BTC-IOTA</td>\n      <td>USD</td>\n      <td>5.670767</td>\n      <td>39</td>\n      <td>buy</td>\n      <td>0.0</td>\n    </tr>\n    <tr>\n      <th>1</th>\n      <td>2017-12-29</td>\n      <td>BTC-TRX</td>\n      <td>USD</td>\n      <td>0.035468</td>\n      <td>6050</td>\n      <td>buy</td>\n      <td>0.0</td>\n    </tr>\n  </tbody>\n</table>\n</div>"
     },
     "execution_count": 24,
     "metadata": {},
     "output_type": "execute_result"
    }
   ],
   "source": [
    "from convertor.yahoo_convertor import YahooConvertor\n",
    "\n",
    "convertors = {\n",
    "    'CZK': YahooConvertor(ticker='CZK=X', inverse=True),\n",
    "    'BTC': YahooConvertor(ticker='BTC-USD'),\n",
    "    'ETH': YahooConvertor(ticker='ETH-USD'),\n",
    "}\n",
    "\n",
    "result = pd.DataFrame([], columns=transactions.columns)\n",
    "\n",
    "for _, row in transactions.iterrows():\n",
    "    convertor = convertors[row['Currency']]\n",
    "    new_row = row.copy()\n",
    "    new_row['Price'] = convertor.convert(row['Price'], row['Date'])\n",
    "    new_row['Fee'] = convertor.convert(row['Fee'], row['Date'])\n",
    "    new_row['Currency'] = 'USD'\n",
    "    result = result.append(new_row)\n",
    "\n",
    "result"
   ],
   "metadata": {
    "collapsed": false,
    "pycharm": {
     "name": "#%%\n"
    }
   }
  },
  {
   "cell_type": "code",
   "execution_count": 25,
   "outputs": [],
   "source": [
    "out_path = path.parent / f'{path.stem}_usd.csv'\n",
    "\n",
    "result.to_csv(out_path)"
   ],
   "metadata": {
    "collapsed": false,
    "pycharm": {
     "name": "#%%\n"
    }
   }
  },
  {
   "cell_type": "code",
   "execution_count": 25,
   "outputs": [],
   "source": [],
   "metadata": {
    "collapsed": false,
    "pycharm": {
     "name": "#%%\n"
    }
   }
  }
 ],
 "metadata": {
  "kernelspec": {
   "name": "value-invest",
   "language": "python",
   "display_name": "value-invest"
  },
  "language_info": {
   "codemirror_mode": {
    "name": "ipython",
    "version": 2
   },
   "file_extension": ".py",
   "mimetype": "text/x-python",
   "name": "python",
   "nbconvert_exporter": "python",
   "pygments_lexer": "ipython2",
   "version": "2.7.6"
  }
 },
 "nbformat": 4,
 "nbformat_minor": 0
}