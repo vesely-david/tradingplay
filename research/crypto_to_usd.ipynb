{
 "cells": [
  {
   "cell_type": "markdown",
   "metadata": {
    "collapsed": true,
    "pycharm": {
     "name": "#%% md\n"
    }
   },
   "source": [
    "# Load Transactions"
   ]
  },
  {
   "cell_type": "code",
   "execution_count": 6,
   "outputs": [],
   "source": [
    "from pathlib import Path\n",
    "from datetime import datetime\n",
    "\n",
    "import pandas as pd\n",
    "\n",
    "\n",
    "def str2float(x):\n",
    "    if not isinstance(x, str):\n",
    "        return float(x)\n",
    "    return float(x.replace(',', ''))\n",
    "\n",
    "path = Path('/Users/ab011sw/Documents/Personal/investments/coinmate.tsv')\n",
    "transactions = pd.read_csv(path, sep='\\t')\n",
    "transactions['Date'] = transactions['Date']\\\n",
    "    .apply(lambda x: datetime.strptime(x, '%d/%m/%Y'))\\\n",
    "\n",
    "transactions['Price'] = transactions['Price'].apply(str2float)\n",
    "transactions['Fee'] = transactions['Fee'].apply(str2float)"
   ],
   "metadata": {
    "collapsed": false,
    "pycharm": {
     "name": "#%%\n"
    }
   }
  },
  {
   "cell_type": "code",
   "execution_count": 7,
   "outputs": [
    {
     "data": {
      "text/plain": "        Date Code Currency       Price  Quantity Action        Fee\n0 2021-04-16  BTC      CZK  1343533.00  0.000104    buy   0.488247\n1 2020-08-17  BTC      CZK   270156.00  0.044789   sell  14.519982\n2 2019-08-12  BTC      CZK   262801.23  0.044789    buy  29.426432\n3 2019-08-07  BTC      CZK   275123.00  0.042808   sell  14.132929\n4 2019-08-07  BTC      CZK   267971.99  0.042808    buy  28.678302",
      "text/html": "<div>\n<style scoped>\n    .dataframe tbody tr th:only-of-type {\n        vertical-align: middle;\n    }\n\n    .dataframe tbody tr th {\n        vertical-align: top;\n    }\n\n    .dataframe thead th {\n        text-align: right;\n    }\n</style>\n<table border=\"1\" class=\"dataframe\">\n  <thead>\n    <tr style=\"text-align: right;\">\n      <th></th>\n      <th>Date</th>\n      <th>Code</th>\n      <th>Currency</th>\n      <th>Price</th>\n      <th>Quantity</th>\n      <th>Action</th>\n      <th>Fee</th>\n    </tr>\n  </thead>\n  <tbody>\n    <tr>\n      <th>0</th>\n      <td>2021-04-16</td>\n      <td>BTC</td>\n      <td>CZK</td>\n      <td>1343533.00</td>\n      <td>0.000104</td>\n      <td>buy</td>\n      <td>0.488247</td>\n    </tr>\n    <tr>\n      <th>1</th>\n      <td>2020-08-17</td>\n      <td>BTC</td>\n      <td>CZK</td>\n      <td>270156.00</td>\n      <td>0.044789</td>\n      <td>sell</td>\n      <td>14.519982</td>\n    </tr>\n    <tr>\n      <th>2</th>\n      <td>2019-08-12</td>\n      <td>BTC</td>\n      <td>CZK</td>\n      <td>262801.23</td>\n      <td>0.044789</td>\n      <td>buy</td>\n      <td>29.426432</td>\n    </tr>\n    <tr>\n      <th>3</th>\n      <td>2019-08-07</td>\n      <td>BTC</td>\n      <td>CZK</td>\n      <td>275123.00</td>\n      <td>0.042808</td>\n      <td>sell</td>\n      <td>14.132929</td>\n    </tr>\n    <tr>\n      <th>4</th>\n      <td>2019-08-07</td>\n      <td>BTC</td>\n      <td>CZK</td>\n      <td>267971.99</td>\n      <td>0.042808</td>\n      <td>buy</td>\n      <td>28.678302</td>\n    </tr>\n  </tbody>\n</table>\n</div>"
     },
     "execution_count": 7,
     "metadata": {},
     "output_type": "execute_result"
    }
   ],
   "source": [
    "transactions.head()"
   ],
   "metadata": {
    "collapsed": false,
    "pycharm": {
     "name": "#%%\n"
    }
   }
  },
  {
   "cell_type": "markdown",
   "source": [
    "# Process Data"
   ],
   "metadata": {
    "collapsed": false,
    "pycharm": {
     "name": "#%% md\n"
    }
   }
  },
  {
   "cell_type": "code",
   "execution_count": 8,
   "outputs": [
    {
     "name": "stdout",
     "output_type": "stream",
     "text": [
      "[*********************100%***********************]  1 of 1 completed\n",
      "[*********************100%***********************]  1 of 1 completed\n"
     ]
    },
    {
     "data": {
      "text/plain": "         Date Code Currency         Price  Quantity Action       Fee\n0  2021-04-16  BTC      USD  62068.419107  0.000104    buy  0.022556\n1  2020-08-17  BTC      USD  12265.879682  0.044789   sell  0.659250\n2  2019-08-12  BTC      USD  11420.678371  0.044789    buy  1.278798\n3  2019-08-07  BTC      USD  11981.143579  0.042808   sell  0.615465\n4  2019-08-07  BTC      USD  11669.729129  0.042808    buy  1.248892\n5  2019-08-05  BTC      USD  11446.958249  0.033182   sell  0.455796\n6  2019-08-05  BTC      USD  11446.958249  0.001645   sell  0.022591\n7  2019-08-05  BTC      USD  11446.958249  0.008687   sell  0.119332\n8  2019-07-13  BTC      USD  11395.921869  0.043514    buy  1.239697\n9  2019-07-12  BTC      USD  11751.484756  0.042462   sell  0.598790\n10 2019-07-12  BTC      USD  11470.520435  0.038257    buy  1.097077\n11 2019-07-12  BTC      USD  11480.172012  0.004205    buy  0.120678\n12 2019-07-11  BTC      USD  11901.841572  0.041107   sell  0.587098\n13 2019-07-11  BTC      USD  11653.042999  0.041107    buy  1.197552\n14 2019-07-07  BTC      USD  11520.072269  0.039211   sell  0.542062\n15 2019-07-07  BTC      USD  11210.143216  0.039211    buy  1.098914\n16 2019-07-03  BTC      USD  11223.730733  0.040597   sell  0.546783\n17 2019-07-01  BTC      USD  10989.701673  0.040597    buy  1.115379\n18 2019-06-27  BTC      USD  11795.172615  0.038876   sell  0.550252\n19 2019-06-27  BTC      USD  11489.267900  0.038876    buy  1.116628\n20 2019-05-26  BTC      USD   8316.091205  0.053297   sell  0.221612\n21 2018-05-15  BTC      USD   8749.733726  0.053297    buy  1.632174\n22 2018-02-24  LTC      USD    196.261400  1.197867    buy  0.122565\n23 2018-01-18  BTC      USD  11134.113748  0.021841    buy  0.851128\n24 2017-12-21  BTC      USD  17757.400093  0.012978    buy  0.806612\n25 2017-12-19  BTC      USD  18679.704357  0.024490    buy  1.601153\n26 2017-12-15  BTC      USD  16953.812317  0.013466    buy  0.799073\n27 2017-11-29  BTC      USD  10687.064216  0.065217   sell  2.439439\n28 2017-10-26  BTC      USD   5766.592202  0.041487   sell  0.837340\n29 2017-10-25  BTC      USD   5521.199430  0.041488    buy  0.801718\n30 2017-10-24  BTC      USD   5692.673576  0.120415    buy  2.399197\n31 2017-09-11  BTC      USD   4453.161893  0.206075    buy  3.211891",
      "text/html": "<div>\n<style scoped>\n    .dataframe tbody tr th:only-of-type {\n        vertical-align: middle;\n    }\n\n    .dataframe tbody tr th {\n        vertical-align: top;\n    }\n\n    .dataframe thead th {\n        text-align: right;\n    }\n</style>\n<table border=\"1\" class=\"dataframe\">\n  <thead>\n    <tr style=\"text-align: right;\">\n      <th></th>\n      <th>Date</th>\n      <th>Code</th>\n      <th>Currency</th>\n      <th>Price</th>\n      <th>Quantity</th>\n      <th>Action</th>\n      <th>Fee</th>\n    </tr>\n  </thead>\n  <tbody>\n    <tr>\n      <th>0</th>\n      <td>2021-04-16</td>\n      <td>BTC</td>\n      <td>USD</td>\n      <td>62068.419107</td>\n      <td>0.000104</td>\n      <td>buy</td>\n      <td>0.022556</td>\n    </tr>\n    <tr>\n      <th>1</th>\n      <td>2020-08-17</td>\n      <td>BTC</td>\n      <td>USD</td>\n      <td>12265.879682</td>\n      <td>0.044789</td>\n      <td>sell</td>\n      <td>0.659250</td>\n    </tr>\n    <tr>\n      <th>2</th>\n      <td>2019-08-12</td>\n      <td>BTC</td>\n      <td>USD</td>\n      <td>11420.678371</td>\n      <td>0.044789</td>\n      <td>buy</td>\n      <td>1.278798</td>\n    </tr>\n    <tr>\n      <th>3</th>\n      <td>2019-08-07</td>\n      <td>BTC</td>\n      <td>USD</td>\n      <td>11981.143579</td>\n      <td>0.042808</td>\n      <td>sell</td>\n      <td>0.615465</td>\n    </tr>\n    <tr>\n      <th>4</th>\n      <td>2019-08-07</td>\n      <td>BTC</td>\n      <td>USD</td>\n      <td>11669.729129</td>\n      <td>0.042808</td>\n      <td>buy</td>\n      <td>1.248892</td>\n    </tr>\n    <tr>\n      <th>5</th>\n      <td>2019-08-05</td>\n      <td>BTC</td>\n      <td>USD</td>\n      <td>11446.958249</td>\n      <td>0.033182</td>\n      <td>sell</td>\n      <td>0.455796</td>\n    </tr>\n    <tr>\n      <th>6</th>\n      <td>2019-08-05</td>\n      <td>BTC</td>\n      <td>USD</td>\n      <td>11446.958249</td>\n      <td>0.001645</td>\n      <td>sell</td>\n      <td>0.022591</td>\n    </tr>\n    <tr>\n      <th>7</th>\n      <td>2019-08-05</td>\n      <td>BTC</td>\n      <td>USD</td>\n      <td>11446.958249</td>\n      <td>0.008687</td>\n      <td>sell</td>\n      <td>0.119332</td>\n    </tr>\n    <tr>\n      <th>8</th>\n      <td>2019-07-13</td>\n      <td>BTC</td>\n      <td>USD</td>\n      <td>11395.921869</td>\n      <td>0.043514</td>\n      <td>buy</td>\n      <td>1.239697</td>\n    </tr>\n    <tr>\n      <th>9</th>\n      <td>2019-07-12</td>\n      <td>BTC</td>\n      <td>USD</td>\n      <td>11751.484756</td>\n      <td>0.042462</td>\n      <td>sell</td>\n      <td>0.598790</td>\n    </tr>\n    <tr>\n      <th>10</th>\n      <td>2019-07-12</td>\n      <td>BTC</td>\n      <td>USD</td>\n      <td>11470.520435</td>\n      <td>0.038257</td>\n      <td>buy</td>\n      <td>1.097077</td>\n    </tr>\n    <tr>\n      <th>11</th>\n      <td>2019-07-12</td>\n      <td>BTC</td>\n      <td>USD</td>\n      <td>11480.172012</td>\n      <td>0.004205</td>\n      <td>buy</td>\n      <td>0.120678</td>\n    </tr>\n    <tr>\n      <th>12</th>\n      <td>2019-07-11</td>\n      <td>BTC</td>\n      <td>USD</td>\n      <td>11901.841572</td>\n      <td>0.041107</td>\n      <td>sell</td>\n      <td>0.587098</td>\n    </tr>\n    <tr>\n      <th>13</th>\n      <td>2019-07-11</td>\n      <td>BTC</td>\n      <td>USD</td>\n      <td>11653.042999</td>\n      <td>0.041107</td>\n      <td>buy</td>\n      <td>1.197552</td>\n    </tr>\n    <tr>\n      <th>14</th>\n      <td>2019-07-07</td>\n      <td>BTC</td>\n      <td>USD</td>\n      <td>11520.072269</td>\n      <td>0.039211</td>\n      <td>sell</td>\n      <td>0.542062</td>\n    </tr>\n    <tr>\n      <th>15</th>\n      <td>2019-07-07</td>\n      <td>BTC</td>\n      <td>USD</td>\n      <td>11210.143216</td>\n      <td>0.039211</td>\n      <td>buy</td>\n      <td>1.098914</td>\n    </tr>\n    <tr>\n      <th>16</th>\n      <td>2019-07-03</td>\n      <td>BTC</td>\n      <td>USD</td>\n      <td>11223.730733</td>\n      <td>0.040597</td>\n      <td>sell</td>\n      <td>0.546783</td>\n    </tr>\n    <tr>\n      <th>17</th>\n      <td>2019-07-01</td>\n      <td>BTC</td>\n      <td>USD</td>\n      <td>10989.701673</td>\n      <td>0.040597</td>\n      <td>buy</td>\n      <td>1.115379</td>\n    </tr>\n    <tr>\n      <th>18</th>\n      <td>2019-06-27</td>\n      <td>BTC</td>\n      <td>USD</td>\n      <td>11795.172615</td>\n      <td>0.038876</td>\n      <td>sell</td>\n      <td>0.550252</td>\n    </tr>\n    <tr>\n      <th>19</th>\n      <td>2019-06-27</td>\n      <td>BTC</td>\n      <td>USD</td>\n      <td>11489.267900</td>\n      <td>0.038876</td>\n      <td>buy</td>\n      <td>1.116628</td>\n    </tr>\n    <tr>\n      <th>20</th>\n      <td>2019-05-26</td>\n      <td>BTC</td>\n      <td>USD</td>\n      <td>8316.091205</td>\n      <td>0.053297</td>\n      <td>sell</td>\n      <td>0.221612</td>\n    </tr>\n    <tr>\n      <th>21</th>\n      <td>2018-05-15</td>\n      <td>BTC</td>\n      <td>USD</td>\n      <td>8749.733726</td>\n      <td>0.053297</td>\n      <td>buy</td>\n      <td>1.632174</td>\n    </tr>\n    <tr>\n      <th>22</th>\n      <td>2018-02-24</td>\n      <td>LTC</td>\n      <td>USD</td>\n      <td>196.261400</td>\n      <td>1.197867</td>\n      <td>buy</td>\n      <td>0.122565</td>\n    </tr>\n    <tr>\n      <th>23</th>\n      <td>2018-01-18</td>\n      <td>BTC</td>\n      <td>USD</td>\n      <td>11134.113748</td>\n      <td>0.021841</td>\n      <td>buy</td>\n      <td>0.851128</td>\n    </tr>\n    <tr>\n      <th>24</th>\n      <td>2017-12-21</td>\n      <td>BTC</td>\n      <td>USD</td>\n      <td>17757.400093</td>\n      <td>0.012978</td>\n      <td>buy</td>\n      <td>0.806612</td>\n    </tr>\n    <tr>\n      <th>25</th>\n      <td>2017-12-19</td>\n      <td>BTC</td>\n      <td>USD</td>\n      <td>18679.704357</td>\n      <td>0.024490</td>\n      <td>buy</td>\n      <td>1.601153</td>\n    </tr>\n    <tr>\n      <th>26</th>\n      <td>2017-12-15</td>\n      <td>BTC</td>\n      <td>USD</td>\n      <td>16953.812317</td>\n      <td>0.013466</td>\n      <td>buy</td>\n      <td>0.799073</td>\n    </tr>\n    <tr>\n      <th>27</th>\n      <td>2017-11-29</td>\n      <td>BTC</td>\n      <td>USD</td>\n      <td>10687.064216</td>\n      <td>0.065217</td>\n      <td>sell</td>\n      <td>2.439439</td>\n    </tr>\n    <tr>\n      <th>28</th>\n      <td>2017-10-26</td>\n      <td>BTC</td>\n      <td>USD</td>\n      <td>5766.592202</td>\n      <td>0.041487</td>\n      <td>sell</td>\n      <td>0.837340</td>\n    </tr>\n    <tr>\n      <th>29</th>\n      <td>2017-10-25</td>\n      <td>BTC</td>\n      <td>USD</td>\n      <td>5521.199430</td>\n      <td>0.041488</td>\n      <td>buy</td>\n      <td>0.801718</td>\n    </tr>\n    <tr>\n      <th>30</th>\n      <td>2017-10-24</td>\n      <td>BTC</td>\n      <td>USD</td>\n      <td>5692.673576</td>\n      <td>0.120415</td>\n      <td>buy</td>\n      <td>2.399197</td>\n    </tr>\n    <tr>\n      <th>31</th>\n      <td>2017-09-11</td>\n      <td>BTC</td>\n      <td>USD</td>\n      <td>4453.161893</td>\n      <td>0.206075</td>\n      <td>buy</td>\n      <td>3.211891</td>\n    </tr>\n  </tbody>\n</table>\n</div>"
     },
     "execution_count": 8,
     "metadata": {},
     "output_type": "execute_result"
    }
   ],
   "source": [
    "from convertor.yahoo_convertor import YahooConvertor\n",
    "\n",
    "convertors = {\n",
    "    'CZK': YahooConvertor(ticker='CZK=X', inverse=True),\n",
    "    'BTC': YahooConvertor(ticker='BTC-USD'),\n",
    "}\n",
    "\n",
    "result = pd.DataFrame([], columns=transactions.columns)\n",
    "\n",
    "for _, row in transactions.iterrows():\n",
    "    convertor = convertors[row['Currency']]\n",
    "    new_row = row.copy()\n",
    "    new_row['Price'] = convertor.convert(row['Price'], row['Date'])\n",
    "    new_row['Fee'] = convertor.convert(row['Fee'], row['Date'])\n",
    "    new_row['Currency'] = 'USD'\n",
    "    result = result.append(new_row)\n",
    "\n",
    "result"
   ],
   "metadata": {
    "collapsed": false,
    "pycharm": {
     "name": "#%%\n"
    }
   }
  },
  {
   "cell_type": "code",
   "execution_count": 9,
   "outputs": [
    {
     "data": {
      "text/plain": "Date        2017-09-11 00:00:00\nCode                        BTC\nCurrency                    CZK\nPrice                  96713.77\nQuantity               0.206075\nAction                      buy\nFee                   69.755854\nName: 31, dtype: object"
     },
     "execution_count": 9,
     "metadata": {},
     "output_type": "execute_result"
    }
   ],
   "source": [
    "row"
   ],
   "metadata": {
    "collapsed": false,
    "pycharm": {
     "name": "#%%\n"
    }
   }
  },
  {
   "cell_type": "code",
   "execution_count": 10,
   "outputs": [
    {
     "data": {
      "text/plain": "Date        2017-09-11 00:00:00\nCode                        BTC\nCurrency                    USD\nPrice               4453.161893\nQuantity               0.206075\nAction                      buy\nFee                    3.211891\nName: 31, dtype: object"
     },
     "execution_count": 10,
     "metadata": {},
     "output_type": "execute_result"
    }
   ],
   "source": [
    "new_row"
   ],
   "metadata": {
    "collapsed": false,
    "pycharm": {
     "name": "#%%\n"
    }
   }
  },
  {
   "cell_type": "code",
   "execution_count": 10,
   "outputs": [],
   "source": [],
   "metadata": {
    "collapsed": false,
    "pycharm": {
     "name": "#%%\n"
    }
   }
  },
  {
   "cell_type": "code",
   "execution_count": 10,
   "outputs": [],
   "source": [],
   "metadata": {
    "collapsed": false,
    "pycharm": {
     "name": "#%%\n"
    }
   }
  }
 ],
 "metadata": {
  "kernelspec": {
   "name": "value-invest",
   "language": "python",
   "display_name": "value-invest"
  },
  "language_info": {
   "codemirror_mode": {
    "name": "ipython",
    "version": 2
   },
   "file_extension": ".py",
   "mimetype": "text/x-python",
   "name": "python",
   "nbconvert_exporter": "python",
   "pygments_lexer": "ipython2",
   "version": "2.7.6"
  }
 },
 "nbformat": 4,
 "nbformat_minor": 0
}