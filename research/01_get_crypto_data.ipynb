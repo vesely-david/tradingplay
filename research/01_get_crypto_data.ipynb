{
 "cells": [
  {
   "cell_type": "code",
   "execution_count": null,
   "metadata": {},
   "outputs": [],
   "source": [
    "from gemini import data"
   ]
  },
  {
   "cell_type": "code",
   "execution_count": null,
   "metadata": {},
   "outputs": [
    {
     "ename": "ValueError",
     "evalue": "Timeframe must be >= 5-MIN",
     "output_type": "error",
     "traceback": [
      "\u001b[0;31m---------------------------------------------------------------------------\u001b[0m",
      "\u001b[0;31mValueError\u001b[0m                                Traceback (most recent call last)",
      "\u001b[0;32m<ipython-input-2-8f4d6c282478>\u001b[0m in \u001b[0;36m<module>\u001b[0;34m\u001b[0m\n\u001b[0;32m----> 1\u001b[0;31m \u001b[0mdf\u001b[0m \u001b[0;34m=\u001b[0m \u001b[0mdata\u001b[0m\u001b[0;34m.\u001b[0m\u001b[0mget_ltf_candles\u001b[0m\u001b[0;34m(\u001b[0m\u001b[0;34m\"USDC_BTC\"\u001b[0m\u001b[0;34m,\u001b[0m \u001b[0;34m\"1-MIN\"\u001b[0m\u001b[0;34m,\u001b[0m \u001b[0;34m\"2019-01-12 00:00:00\"\u001b[0m\u001b[0;34m,\u001b[0m \u001b[0;34m\"2019-02-01 00:00:00\"\u001b[0m\u001b[0;34m)\u001b[0m\u001b[0;34m\u001b[0m\u001b[0;34m\u001b[0m\u001b[0m\n\u001b[0m",
      "\u001b[0;32m~/anaconda3/envs/trading/lib/python3.6/site-packages/gemini/data.py\u001b[0m in \u001b[0;36mget_ltf_candles\u001b[0;34m(pair, tf, start, end)\u001b[0m\n\u001b[1;32m    257\u001b[0m     \u001b[0mtf_secs\u001b[0m \u001b[0;34m=\u001b[0m \u001b[0mtf_to_secs\u001b[0m\u001b[0;34m(\u001b[0m\u001b[0mtf_1\u001b[0m\u001b[0;34m,\u001b[0m \u001b[0mtf_2\u001b[0m\u001b[0;34m)\u001b[0m\u001b[0;34m\u001b[0m\u001b[0;34m\u001b[0m\u001b[0m\n\u001b[1;32m    258\u001b[0m     \u001b[0;32mif\u001b[0m \u001b[0mtf_secs\u001b[0m \u001b[0;34m<\u001b[0m \u001b[0;36m300\u001b[0m\u001b[0;34m:\u001b[0m\u001b[0;34m\u001b[0m\u001b[0;34m\u001b[0m\u001b[0m\n\u001b[0;32m--> 259\u001b[0;31m         \u001b[0;32mraise\u001b[0m \u001b[0mValueError\u001b[0m\u001b[0;34m(\u001b[0m\u001b[0;34m\"Timeframe must be >= 5-MIN\"\u001b[0m\u001b[0;34m)\u001b[0m\u001b[0;34m\u001b[0m\u001b[0;34m\u001b[0m\u001b[0m\n\u001b[0m\u001b[1;32m    260\u001b[0m     \u001b[0;32mif\u001b[0m \u001b[0mtf_secs\u001b[0m \u001b[0;34m%\u001b[0m \u001b[0;36m300\u001b[0m \u001b[0;34m!=\u001b[0m \u001b[0;36m0\u001b[0m\u001b[0;34m:\u001b[0m\u001b[0;34m\u001b[0m\u001b[0;34m\u001b[0m\u001b[0m\n\u001b[1;32m    261\u001b[0m         \u001b[0;32mraise\u001b[0m \u001b[0mValueError\u001b[0m\u001b[0;34m(\u001b[0m\u001b[0;34m\"Timeframe must be a multiple by 5-MIN\"\u001b[0m\u001b[0;34m)\u001b[0m\u001b[0;34m\u001b[0m\u001b[0;34m\u001b[0m\u001b[0m\n",
      "\u001b[0;31mValueError\u001b[0m: Timeframe must be >= 5-MIN"
     ]
    }
   ],
   "source": [
    "df = data.get_ltf_candles(\"USDC_BTC\", \"1-MIN\", \"2019-01-12 00:00:00\", \"2019-02-01 00:00:00\")"
   ]
  },
  {
   "cell_type": "code",
   "execution_count": null,
   "metadata": {},
   "outputs": [
    {
     "name": "stdout",
     "output_type": "stream",
     "text": [
      "ModuleNotFoundError: No module named 'numpy.core._multiarray_umath'\n",
      "ModuleNotFoundError: No module named 'numpy.core._multiarray_umath'\n",
      "ModuleNotFoundError: No module named 'numpy.core._multiarray_umath'\n",
      "ModuleNotFoundError: No module named 'numpy.core._multiarray_umath'\n",
      "Traceback (most recent call last):\n",
      "  File \"/Users/ab011sw/anaconda3/envs/trading/bin/catalyst\", line 5, in <module>\n",
      "    from catalyst.__main__ import main\n",
      "  File \"/Users/ab011sw/anaconda3/envs/trading/lib/python3.6/site-packages/catalyst/__init__.py\", line 20, in <module>\n",
      "    from . import data\n",
      "  File \"/Users/ab011sw/anaconda3/envs/trading/lib/python3.6/site-packages/catalyst/data/__init__.py\", line 1, in <module>\n",
      "    from . import loader\n",
      "  File \"/Users/ab011sw/anaconda3/envs/trading/lib/python3.6/site-packages/catalyst/data/loader.py\", line 26, in <module>\n",
      "    from catalyst.utils.calendars import get_calendar\n",
      "  File \"/Users/ab011sw/anaconda3/envs/trading/lib/python3.6/site-packages/catalyst/utils/calendars/__init__.py\", line 16, in <module>\n",
      "    from .trading_calendar import TradingCalendar\n",
      "  File \"/Users/ab011sw/anaconda3/envs/trading/lib/python3.6/site-packages/catalyst/utils/calendars/trading_calendar.py\", line 30, in <module>\n",
      "    from catalyst.utils.calendars._calendar_helpers import (\n",
      "  File \"catalyst/utils/calendars/_calendar_helpers.pyx\", line 1, in init catalyst.utils.calendars._calendar_helpers\n",
      "ValueError: numpy.ufunc size changed, may indicate binary incompatibility. Expected 216 from C header, got 192 from PyObject\n"
     ]
    }
   ],
   "source": [
    "! catalyst ingest-exchange -x bitfinex -i btc_usd"
   ]
  },
  {
   "cell_type": "code",
   "execution_count": null,
   "metadata": {},
   "outputs": [],
   "source": []
  }
 ],
 "metadata": {
  "kernelspec": {
   "display_name": "Python (trading)",
   "language": "python",
   "name": "trading"
  }
 },
 "nbformat": 4,
 "nbformat_minor": 4
}
