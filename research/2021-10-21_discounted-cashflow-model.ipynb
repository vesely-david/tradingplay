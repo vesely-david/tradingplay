{
 "cells": [
  {
   "cell_type": "markdown",
   "metadata": {},
   "source": [
    "# Discounted Cashflow Model (DCF Model)\n",
    "\n",
    "## Free Cashflow (FCF)\n",
    "\n",
    "The cash company is able to generate after spending all money needed to stay in business.\n",
    "\n",
    "FCF = operating cashflow - maintanence capital expenditures \n",
    "\n",
    "## DCF Model\n",
    "\n",
    "- Takes trailing 12 months of FCF and projects that into 10 years. \n",
    "- The projections is simply by multiplying it with expected growth rate.\n",
    "- Takes NPV of this projections and adds them up.\n",
    "- Add all cash and cash equivalents.\n",
    "- Substract all debt.\n",
    "- Divide by number of shares outstanding.\n",
    "\n",
    "\n",
    "### Computation\n",
    "\n",
    "**Parameters**\n",
    "\n",
    "- Cash & Cash Equivalents (cash)\n",
    "- Total Liabilities (liabilities)\n",
    "- Free cash flow (free_cf)\n",
    "- Shares outstanding (n_shares)\n",
    "- Expected growth rate (growth_rate)\n",
    "- Margin of safety (safety)\n",
    "- Growth decline rate (decline_rate)\n",
    "- Discount rate (discount_rate)\n",
    "- Year 10 FCF multiplier (fcf_multiplier)"
   ]
  },
  {
   "cell_type": "code",
   "execution_count": null,
   "metadata": {},
   "outputs": [],
   "source": [
    "def _fcf_growths(free_cf, rate, decline_rate):\n",
    "    fcf_growths = [free_cf * (1 + rate)]\n",
    "    last = fcf_growths[0]\n",
    "    \n",
    "    for i in range(2, 11):\n",
    "        val = last * (1 + (rate * ((1 - decline_rate) ** (i - 1))))\n",
    "        fcf_growths.append(val)\n",
    "        last = val\n",
    "    return fcf_growths\n",
    "\n",
    "\n",
    "def _calc_npv_fcf_values(fcf_growths, discount_rate):    \n",
    "    npv_fcf_growths = [\n",
    "        fcf / ((1 + discount_rate)**(i+1)) for i, fcf in enumerate(fcf_growths)\n",
    "    ]\n",
    "\n",
    "    return npv_fcf_growths\n",
    "\n",
    "def calc_dcf(\n",
    "        cash,\n",
    "        liabilities,\n",
    "        free_cf,\n",
    "        n_shares,\n",
    "        growth_rate,\n",
    "        safety,\n",
    "        decline_rate,\n",
    "        discount_rate,\n",
    "        fcf_multiplier):\n",
    "\n",
    "    conservative_rate = growth_rate * (1-safety)\n",
    "    fcf_values = _fcf_growths(free_cf, conservative_rate, decline_rate)\n",
    "    npv_fcf_values = _calc_npv_fcf_values(fcf_values, discount_rate)\n",
    "\n",
    "    total_npv_fcf = sum(npv_fcf_values)\n",
    "    year_10_fcf = npv_fcf_values[-1] * fcf_multiplier\n",
    "    company_value = total_npv_fcf + year_10_fcf + cash - liabilities\n",
    "    return company_value / n_shares\n",
    "\n",
    "\n",
    "_excel_value = calc_dcf(\n",
    "    cash=48844000.,\n",
    "    liabilities=248028000.,\n",
    "    free_cf=58245000.,\n",
    "    n_shares=4520000.,\n",
    "    growth_rate=.0986,\n",
    "    safety=.25,\n",
    "    decline_rate=.05,\n",
    "    discount_rate=.09,\n",
    "    fcf_multiplier=12.\n",
    ")\n",
    "\n",
    "print(_excel_value)\n",
    "assert int(_excel_value) == 185"
   ]
  },
  {
   "cell_type": "markdown",
   "metadata": {},
   "source": [
    "# Download AAPL Data\n"
   ]
  },
  {
   "cell_type": "code",
   "execution_count": 7,
   "metadata": {},
   "outputs": [],
   "source": [
    "import finpie\n",
    "\n",
    "ticker_name = 'AAPL'\n",
    "\n",
    "yahoo_fd = finpie.Fundamentals(ticker_name, source='yahoo', freq='A')\n",
    "macrotrends_fd = finpie.Fundamentals(ticker_name, source='macrotrends', freq='A')\n",
    "marketwatch_fd = finpie.Fundamentals(ticker_name, source='marketwatch', freq='A')"
   ]
  },
  {
   "cell_type": "code",
   "execution_count": 2,
   "metadata": {},
   "outputs": [],
   "source": [
    "def get_latest(df, col):\n",
    "    latest = max(cashflow_statement.index)\n",
    "    return df.loc[latest, col]"
   ]
  },
  {
   "cell_type": "markdown",
   "metadata": {},
   "source": [
    "## Free Cash Flow"
   ]
  },
  {
   "cell_type": "code",
   "execution_count": 3,
   "metadata": {},
   "outputs": [],
   "source": [
    "cashflow_statement = yahoo_fd.cashflow_statement()"
   ]
  },
  {
   "cell_type": "code",
   "execution_count": 4,
   "metadata": {},
   "outputs": [],
   "source": [
    "free_cashflow = get_latest(cashflow_statement, 'free_cash_flow')"
   ]
  },
  {
   "cell_type": "markdown",
   "metadata": {},
   "source": [
    "## Cash & Cash Equivalents"
   ]
  },
  {
   "cell_type": "code",
   "execution_count": 8,
   "metadata": {},
   "outputs": [],
   "source": [
    "import yfinance as yf\n",
    "\n",
    "ticker = yf.Ticker(ticker_name)"
   ]
  },
  {
   "cell_type": "code",
   "execution_count": 9,
   "metadata": {},
   "outputs": [],
   "source": [
    "balance_sheet = ticker.balance_sheet"
   ]
  },
  {
   "cell_type": "code",
   "execution_count": 10,
   "metadata": {},
   "outputs": [
    {
     "data": {
      "text/html": [
       "<div>\n",
       "<style scoped>\n",
       "    .dataframe tbody tr th:only-of-type {\n",
       "        vertical-align: middle;\n",
       "    }\n",
       "\n",
       "    .dataframe tbody tr th {\n",
       "        vertical-align: top;\n",
       "    }\n",
       "\n",
       "    .dataframe thead th {\n",
       "        text-align: right;\n",
       "    }\n",
       "</style>\n",
       "<table border=\"1\" class=\"dataframe\">\n",
       "  <thead>\n",
       "    <tr style=\"text-align: right;\">\n",
       "      <th></th>\n",
       "      <th>2020-09-26</th>\n",
       "      <th>2019-09-28</th>\n",
       "      <th>2018-09-29</th>\n",
       "      <th>2017-09-30</th>\n",
       "    </tr>\n",
       "  </thead>\n",
       "  <tbody>\n",
       "    <tr>\n",
       "      <th>Total Liab</th>\n",
       "      <td>2.585490e+11</td>\n",
       "      <td>2.480280e+11</td>\n",
       "      <td>2.585780e+11</td>\n",
       "      <td>2.412720e+11</td>\n",
       "    </tr>\n",
       "    <tr>\n",
       "      <th>Total Stockholder Equity</th>\n",
       "      <td>6.533900e+10</td>\n",
       "      <td>9.048800e+10</td>\n",
       "      <td>1.071470e+11</td>\n",
       "      <td>1.340470e+11</td>\n",
       "    </tr>\n",
       "    <tr>\n",
       "      <th>Other Current Liab</th>\n",
       "      <td>4.786700e+10</td>\n",
       "      <td>4.324200e+10</td>\n",
       "      <td>3.929300e+10</td>\n",
       "      <td>3.809900e+10</td>\n",
       "    </tr>\n",
       "    <tr>\n",
       "      <th>Total Assets</th>\n",
       "      <td>3.238880e+11</td>\n",
       "      <td>3.385160e+11</td>\n",
       "      <td>3.657250e+11</td>\n",
       "      <td>3.753190e+11</td>\n",
       "    </tr>\n",
       "    <tr>\n",
       "      <th>Common Stock</th>\n",
       "      <td>5.077900e+10</td>\n",
       "      <td>4.517400e+10</td>\n",
       "      <td>4.020100e+10</td>\n",
       "      <td>3.586700e+10</td>\n",
       "    </tr>\n",
       "    <tr>\n",
       "      <th>Other Current Assets</th>\n",
       "      <td>1.126400e+10</td>\n",
       "      <td>1.235200e+10</td>\n",
       "      <td>1.208700e+10</td>\n",
       "      <td>1.393600e+10</td>\n",
       "    </tr>\n",
       "    <tr>\n",
       "      <th>Retained Earnings</th>\n",
       "      <td>1.496600e+10</td>\n",
       "      <td>4.589800e+10</td>\n",
       "      <td>7.040000e+10</td>\n",
       "      <td>9.833000e+10</td>\n",
       "    </tr>\n",
       "    <tr>\n",
       "      <th>Other Liab</th>\n",
       "      <td>4.610800e+10</td>\n",
       "      <td>5.050300e+10</td>\n",
       "      <td>4.891400e+10</td>\n",
       "      <td>4.325100e+10</td>\n",
       "    </tr>\n",
       "    <tr>\n",
       "      <th>Treasury Stock</th>\n",
       "      <td>-4.060000e+08</td>\n",
       "      <td>-5.840000e+08</td>\n",
       "      <td>-3.454000e+09</td>\n",
       "      <td>-1.500000e+08</td>\n",
       "    </tr>\n",
       "    <tr>\n",
       "      <th>Other Assets</th>\n",
       "      <td>3.395200e+10</td>\n",
       "      <td>3.297800e+10</td>\n",
       "      <td>2.228300e+10</td>\n",
       "      <td>1.817700e+10</td>\n",
       "    </tr>\n",
       "    <tr>\n",
       "      <th>Cash</th>\n",
       "      <td>3.801600e+10</td>\n",
       "      <td>4.884400e+10</td>\n",
       "      <td>2.591300e+10</td>\n",
       "      <td>2.028900e+10</td>\n",
       "    </tr>\n",
       "    <tr>\n",
       "      <th>Total Current Liabilities</th>\n",
       "      <td>1.053920e+11</td>\n",
       "      <td>1.057180e+11</td>\n",
       "      <td>1.159290e+11</td>\n",
       "      <td>1.008140e+11</td>\n",
       "    </tr>\n",
       "    <tr>\n",
       "      <th>Short Long Term Debt</th>\n",
       "      <td>8.773000e+09</td>\n",
       "      <td>1.026000e+10</td>\n",
       "      <td>8.784000e+09</td>\n",
       "      <td>6.496000e+09</td>\n",
       "    </tr>\n",
       "    <tr>\n",
       "      <th>Other Stockholder Equity</th>\n",
       "      <td>-4.060000e+08</td>\n",
       "      <td>-5.840000e+08</td>\n",
       "      <td>-3.454000e+09</td>\n",
       "      <td>-1.500000e+08</td>\n",
       "    </tr>\n",
       "    <tr>\n",
       "      <th>Property Plant Equipment</th>\n",
       "      <td>4.533600e+10</td>\n",
       "      <td>3.737800e+10</td>\n",
       "      <td>4.130400e+10</td>\n",
       "      <td>3.378300e+10</td>\n",
       "    </tr>\n",
       "    <tr>\n",
       "      <th>Total Current Assets</th>\n",
       "      <td>1.437130e+11</td>\n",
       "      <td>1.628190e+11</td>\n",
       "      <td>1.313390e+11</td>\n",
       "      <td>1.286450e+11</td>\n",
       "    </tr>\n",
       "    <tr>\n",
       "      <th>Long Term Investments</th>\n",
       "      <td>1.008870e+11</td>\n",
       "      <td>1.053410e+11</td>\n",
       "      <td>1.707990e+11</td>\n",
       "      <td>1.947140e+11</td>\n",
       "    </tr>\n",
       "    <tr>\n",
       "      <th>Net Tangible Assets</th>\n",
       "      <td>6.533900e+10</td>\n",
       "      <td>9.048800e+10</td>\n",
       "      <td>1.071470e+11</td>\n",
       "      <td>1.340470e+11</td>\n",
       "    </tr>\n",
       "    <tr>\n",
       "      <th>Short Term Investments</th>\n",
       "      <td>5.292700e+10</td>\n",
       "      <td>5.171300e+10</td>\n",
       "      <td>4.038800e+10</td>\n",
       "      <td>5.389200e+10</td>\n",
       "    </tr>\n",
       "    <tr>\n",
       "      <th>Net Receivables</th>\n",
       "      <td>3.744500e+10</td>\n",
       "      <td>4.580400e+10</td>\n",
       "      <td>4.899500e+10</td>\n",
       "      <td>3.567300e+10</td>\n",
       "    </tr>\n",
       "    <tr>\n",
       "      <th>Long Term Debt</th>\n",
       "      <td>9.866700e+10</td>\n",
       "      <td>9.180700e+10</td>\n",
       "      <td>9.373500e+10</td>\n",
       "      <td>9.720700e+10</td>\n",
       "    </tr>\n",
       "    <tr>\n",
       "      <th>Inventory</th>\n",
       "      <td>4.061000e+09</td>\n",
       "      <td>4.106000e+09</td>\n",
       "      <td>3.956000e+09</td>\n",
       "      <td>4.855000e+09</td>\n",
       "    </tr>\n",
       "    <tr>\n",
       "      <th>Accounts Payable</th>\n",
       "      <td>4.229600e+10</td>\n",
       "      <td>4.623600e+10</td>\n",
       "      <td>5.588800e+10</td>\n",
       "      <td>4.424200e+10</td>\n",
       "    </tr>\n",
       "  </tbody>\n",
       "</table>\n",
       "</div>"
      ],
      "text/plain": [
       "                             2020-09-26    2019-09-28    2018-09-29  \\\n",
       "Total Liab                 2.585490e+11  2.480280e+11  2.585780e+11   \n",
       "Total Stockholder Equity   6.533900e+10  9.048800e+10  1.071470e+11   \n",
       "Other Current Liab         4.786700e+10  4.324200e+10  3.929300e+10   \n",
       "Total Assets               3.238880e+11  3.385160e+11  3.657250e+11   \n",
       "Common Stock               5.077900e+10  4.517400e+10  4.020100e+10   \n",
       "Other Current Assets       1.126400e+10  1.235200e+10  1.208700e+10   \n",
       "Retained Earnings          1.496600e+10  4.589800e+10  7.040000e+10   \n",
       "Other Liab                 4.610800e+10  5.050300e+10  4.891400e+10   \n",
       "Treasury Stock            -4.060000e+08 -5.840000e+08 -3.454000e+09   \n",
       "Other Assets               3.395200e+10  3.297800e+10  2.228300e+10   \n",
       "Cash                       3.801600e+10  4.884400e+10  2.591300e+10   \n",
       "Total Current Liabilities  1.053920e+11  1.057180e+11  1.159290e+11   \n",
       "Short Long Term Debt       8.773000e+09  1.026000e+10  8.784000e+09   \n",
       "Other Stockholder Equity  -4.060000e+08 -5.840000e+08 -3.454000e+09   \n",
       "Property Plant Equipment   4.533600e+10  3.737800e+10  4.130400e+10   \n",
       "Total Current Assets       1.437130e+11  1.628190e+11  1.313390e+11   \n",
       "Long Term Investments      1.008870e+11  1.053410e+11  1.707990e+11   \n",
       "Net Tangible Assets        6.533900e+10  9.048800e+10  1.071470e+11   \n",
       "Short Term Investments     5.292700e+10  5.171300e+10  4.038800e+10   \n",
       "Net Receivables            3.744500e+10  4.580400e+10  4.899500e+10   \n",
       "Long Term Debt             9.866700e+10  9.180700e+10  9.373500e+10   \n",
       "Inventory                  4.061000e+09  4.106000e+09  3.956000e+09   \n",
       "Accounts Payable           4.229600e+10  4.623600e+10  5.588800e+10   \n",
       "\n",
       "                             2017-09-30  \n",
       "Total Liab                 2.412720e+11  \n",
       "Total Stockholder Equity   1.340470e+11  \n",
       "Other Current Liab         3.809900e+10  \n",
       "Total Assets               3.753190e+11  \n",
       "Common Stock               3.586700e+10  \n",
       "Other Current Assets       1.393600e+10  \n",
       "Retained Earnings          9.833000e+10  \n",
       "Other Liab                 4.325100e+10  \n",
       "Treasury Stock            -1.500000e+08  \n",
       "Other Assets               1.817700e+10  \n",
       "Cash                       2.028900e+10  \n",
       "Total Current Liabilities  1.008140e+11  \n",
       "Short Long Term Debt       6.496000e+09  \n",
       "Other Stockholder Equity  -1.500000e+08  \n",
       "Property Plant Equipment   3.378300e+10  \n",
       "Total Current Assets       1.286450e+11  \n",
       "Long Term Investments      1.947140e+11  \n",
       "Net Tangible Assets        1.340470e+11  \n",
       "Short Term Investments     5.389200e+10  \n",
       "Net Receivables            3.567300e+10  \n",
       "Long Term Debt             9.720700e+10  \n",
       "Inventory                  4.855000e+09  \n",
       "Accounts Payable           4.424200e+10  "
      ]
     },
     "execution_count": 10,
     "metadata": {},
     "output_type": "execute_result"
    }
   ],
   "source": [
    "balance_sheet"
   ]
  },
  {
   "cell_type": "code",
   "execution_count": null,
   "metadata": {},
   "outputs": [],
   "source": [
    "balance_sheet.columns"
   ]
  },
  {
   "cell_type": "code",
   "execution_count": null,
   "metadata": {},
   "outputs": [],
   "source": [
    "cash_and_equivalents = get_latest(balance_sheet, )"
   ]
  },
  {
   "cell_type": "code",
   "execution_count": null,
   "metadata": {},
   "outputs": [],
   "source": []
  },
  {
   "cell_type": "code",
   "execution_count": null,
   "metadata": {
    "pycharm": {
     "name": "#%%\n"
    }
   },
   "outputs": [],
   "source": [
    "key_metrics = fd.key_metrics()"
   ]
  },
  {
   "cell_type": "code",
   "execution_count": null,
   "metadata": {
    "pycharm": {
     "name": "#%%\n"
    }
   },
   "outputs": [],
   "source": [
    "key_metrics.columns"
   ]
  },
  {
   "cell_type": "code",
   "execution_count": null,
   "metadata": {
    "pycharm": {
     "name": "#%%\n"
    }
   },
   "outputs": [],
   "source": [
    "eps = key_metrics['diluted_eps_(ttm)']"
   ]
  },
  {
   "cell_type": "code",
   "execution_count": null,
   "metadata": {
    "pycharm": {
     "name": "#%%\n"
    }
   },
   "outputs": [],
   "source": [
    "fd.ratios()"
   ]
  },
  {
   "cell_type": "code",
   "execution_count": null,
   "metadata": {
    "pycharm": {
     "name": "#%%\n"
    }
   },
   "outputs": [],
   "source": []
  }
 ],
 "metadata": {
  "hide_input": false,
  "kernelspec": {
   "display_name": "value-invest",
   "language": "python",
   "name": "value-invest"
  },
  "language_info": {
   "codemirror_mode": {
    "name": "ipython",
    "version": 3
   },
   "file_extension": ".py",
   "mimetype": "text/x-python",
   "name": "python",
   "nbconvert_exporter": "python",
   "pygments_lexer": "ipython3",
   "version": "3.9.7"
  },
  "toc": {
   "base_numbering": 1,
   "nav_menu": {},
   "number_sections": true,
   "sideBar": true,
   "skip_h1_title": false,
   "title_cell": "Table of Contents",
   "title_sidebar": "Contents",
   "toc_cell": false,
   "toc_position": {},
   "toc_section_display": true,
   "toc_window_display": false
  }
 },
 "nbformat": 4,
 "nbformat_minor": 4
}
