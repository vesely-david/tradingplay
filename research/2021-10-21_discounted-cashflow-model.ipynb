{
 "cells": [
  {
   "cell_type": "markdown",
   "metadata": {},
   "source": [
    "# Discounted Cashflow Model (DCF Model)\n",
    "\n",
    "## Free Cashflow (FCF)\n",
    "\n",
    "The cash company is able to generate after spending all money needed to stay in business.\n",
    "\n",
    "FCF = operating cashflow - maintanence capital expenditures \n",
    "\n",
    "## DCF Model\n",
    "\n",
    "- Takes trailing 12 months of FCF and projects that into 10 years. \n",
    "- The projections is simply by multiplying it with expected growth rate.\n",
    "- Takes NPV of this projections and adds them up.\n",
    "- Add all cash and cash equivalents.\n",
    "- Substract all debt.\n",
    "- Divide by number of shares outstanding.\n",
    "\n",
    "\n",
    "### Computation\n",
    "\n",
    "**Parameters**\n",
    "\n",
    "- Cash & Cash Equivalents (cash)\n",
    "- Total Liabilities (liabilities)\n",
    "- Free cash flow (free_cf)\n",
    "- Shares outstanding (n_shares)\n",
    "- Expected growth rate (growth_rate)\n",
    "- Margin of safety (safety)\n",
    "- Growth decline rate (decline_rate)\n",
    "- Discount rate (discount_rate)\n",
    "- Year 10 FCF multiplier (fcf_multiplier)"
   ]
  },
  {
   "cell_type": "code",
   "execution_count": 23,
   "metadata": {},
   "outputs": [
    {
     "name": "stdout",
     "output_type": "stream",
     "text": [
      "185.33566879705538\n"
     ]
    }
   ],
   "source": [
    "def _fcf_growths(free_cf, rate, decline_rate):\n",
    "    fcf_growths = [free_cf * (1 + rate)]\n",
    "    last = fcf_growths[0]\n",
    "    \n",
    "    for i in range(2, 11):\n",
    "        val = last * (1 + (rate * ((1 - decline_rate) ** (i - 1))))\n",
    "        fcf_growths.append(val)\n",
    "        last = val\n",
    "    return fcf_growths\n",
    "\n",
    "\n",
    "def _calc_npv_fcf_values(fcf_growths, discount_rate):    \n",
    "    npv_fcf_growths = [\n",
    "        fcf / ((1 + discount_rate)**(i+1)) for i, fcf in enumerate(fcf_growths)\n",
    "    ]\n",
    "\n",
    "    return npv_fcf_growths\n",
    "\n",
    "def calc_dcf(\n",
    "        cash,\n",
    "        liabilities,\n",
    "        free_cf,\n",
    "        n_shares,\n",
    "        growth_rate,\n",
    "        safety,\n",
    "        decline_rate,\n",
    "        discount_rate,\n",
    "        fcf_multiplier):\n",
    "\n",
    "    conservative_rate = growth_rate * (1-safety)\n",
    "    fcf_values = _fcf_growths(free_cf, conservative_rate, decline_rate)\n",
    "    npv_fcf_values = _calc_npv_fcf_values(fcf_values, discount_rate)\n",
    "\n",
    "    total_npv_fcf = sum(npv_fcf_values)\n",
    "    year_10_fcf = npv_fcf_values[-1] * fcf_multiplier\n",
    "    company_value = total_npv_fcf + year_10_fcf + cash - liabilities\n",
    "    return company_value / n_shares\n",
    "\n",
    "\n",
    "_excel_value = calc_dcf(\n",
    "    cash=48844000.,\n",
    "    liabilities=248028000.,\n",
    "    free_cf=58245000.,\n",
    "    n_shares=4520000.,\n",
    "    growth_rate=.0986,\n",
    "    safety=.25,\n",
    "    decline_rate=.05,\n",
    "    discount_rate=.09,\n",
    "    fcf_multiplier=12.\n",
    ")\n",
    "\n",
    "print(_excel_value)\n",
    "assert int(_excel_value) == 185"
   ]
  },
  {
   "cell_type": "markdown",
   "metadata": {},
   "source": [
    "# Download AAPL Data\n"
   ]
  },
  {
   "cell_type": "markdown",
   "metadata": {},
   "source": [
    "# Income Statement"
   ]
  },
  {
   "cell_type": "code",
   "execution_count": null,
   "metadata": {
    "pycharm": {
     "is_executing": true
    }
   },
   "outputs": [],
   "source": [
    "import finpie"
   ]
  },
  {
   "cell_type": "code",
   "execution_count": 4,
   "metadata": {
    "pycharm": {
     "name": "#%%\n"
    }
   },
   "outputs": [],
   "source": [
    "ticker = 'AAPL'\n",
    "\n",
    "fd = finpie.Fundamentals(ticker, source='yahoo', freq='A')"
   ]
  },
  {
   "cell_type": "code",
   "execution_count": 6,
   "metadata": {
    "pycharm": {
     "name": "#%%\n"
    }
   },
   "outputs": [],
   "source": [
    "key_metrics = fd.key_metrics()"
   ]
  },
  {
   "cell_type": "code",
   "execution_count": 7,
   "metadata": {
    "pycharm": {
     "name": "#%%\n"
    }
   },
   "outputs": [
    {
     "data": {
      "text/plain": [
       "Index(['beta_(5y_monthly)', '52-week_change', 'sandp500_52-week_change',\n",
       "       '52_week_high', '52_week_low', '50-day_moving_average',\n",
       "       '200-day_moving_average', 'avg_vol_(3_month)', 'avg_vol_(10_day)',\n",
       "       'shares_outstanding', 'implied_shares_outstanding', 'float',\n",
       "       '%_held_by_insiders', '%_held_by_institutions',\n",
       "       'shares_short_(sep_29_2021)', 'short_ratio_(sep_29_2021)',\n",
       "       'short_%_of_float_(sep_29_2021)',\n",
       "       'short_%_of_shares_outstanding_(sep_29_2021)',\n",
       "       'shares_short_(prior_month_aug_30_2021)',\n",
       "       'forward_annual_dividend_rate', 'forward_annual_dividend_yield',\n",
       "       'trailing_annual_dividend_rate', 'trailing_annual_dividend_yield',\n",
       "       '5_year_average_dividend_yield', 'payout_ratio', 'dividend_date',\n",
       "       'ex-dividend_date', 'last_split_factor', 'last_split_date',\n",
       "       'fiscal_year_ends', 'most_recent_quarter_(mrq)', 'profit_margin',\n",
       "       'operating_margin_(ttm)', 'return_on_assets_(ttm)',\n",
       "       'return_on_equity_(ttm)', 'revenue_(ttm)', 'revenue_per_share_(ttm)',\n",
       "       'quarterly_revenue_growth_(yoy)', 'gross_profit_(ttm)', 'ebitda',\n",
       "       'net_income_avi_to_common_(ttm)', 'diluted_eps_(ttm)',\n",
       "       'quarterly_earnings_growth_(yoy)', 'total_cash_(mrq)',\n",
       "       'total_cash_per_share_(mrq)', 'total_debt_(mrq)',\n",
       "       'total_debtequity_(mrq)', 'current_ratio_(mrq)',\n",
       "       'book_value_per_share_(mrq)', 'operating_cash_flow_(ttm)',\n",
       "       'levered_free_cash_flow_(ttm)', 'ticker'],\n",
       "      dtype='object')"
      ]
     },
     "execution_count": 7,
     "metadata": {},
     "output_type": "execute_result"
    }
   ],
   "source": [
    "key_metrics.columns"
   ]
  },
  {
   "cell_type": "code",
   "execution_count": 8,
   "metadata": {
    "pycharm": {
     "name": "#%%\n"
    }
   },
   "outputs": [
    {
     "data": {
      "text/plain": [
       "date\n",
       "2021-10-21    5.11\n",
       "Name: diluted_eps_(ttm), dtype: float64"
      ]
     },
     "execution_count": 8,
     "metadata": {},
     "output_type": "execute_result"
    }
   ],
   "source": [
    "eps = key_metrics['diluted_eps_(ttm)']"
   ]
  },
  {
   "cell_type": "code",
   "execution_count": 9,
   "metadata": {
    "pycharm": {
     "name": "#%%\n"
    }
   },
   "outputs": [
    {
     "ename": "AttributeError",
     "evalue": "'FundamentalsClassB' object has no attribute 'ratios'",
     "output_type": "error",
     "traceback": [
      "\u001B[0;31m---------------------------------------------------------------------------\u001B[0m",
      "\u001B[0;31mAttributeError\u001B[0m                            Traceback (most recent call last)",
      "\u001B[0;32m/var/folders/kl/4jxgx39s7l7dj82yd4rmjvzc0000gp/T/ipykernel_17903/2849913112.py\u001B[0m in \u001B[0;36m<module>\u001B[0;34m\u001B[0m\n\u001B[0;32m----> 1\u001B[0;31m \u001B[0mfd\u001B[0m\u001B[0;34m.\u001B[0m\u001B[0mratios\u001B[0m\u001B[0;34m(\u001B[0m\u001B[0;34m)\u001B[0m\u001B[0;34m\u001B[0m\u001B[0;34m\u001B[0m\u001B[0m\n\u001B[0m",
      "\u001B[0;31mAttributeError\u001B[0m: 'FundamentalsClassB' object has no attribute 'ratios'"
     ]
    }
   ],
   "source": [
    "fd.ratios()"
   ]
  },
  {
   "cell_type": "code",
   "execution_count": null,
   "metadata": {
    "pycharm": {
     "name": "#%%\n"
    }
   },
   "outputs": [],
   "source": []
  }
 ],
 "metadata": {
  "hide_input": false,
  "kernelspec": {
   "display_name": "value-invest",
   "language": "python",
   "name": "value-invest"
  },
  "language_info": {
   "codemirror_mode": {
    "name": "ipython",
    "version": 3
   },
   "file_extension": ".py",
   "mimetype": "text/x-python",
   "name": "python",
   "nbconvert_exporter": "python",
   "pygments_lexer": "ipython3",
   "version": "3.9.7"
  },
  "toc": {
   "base_numbering": 1,
   "nav_menu": {},
   "number_sections": true,
   "sideBar": true,
   "skip_h1_title": false,
   "title_cell": "Table of Contents",
   "title_sidebar": "Contents",
   "toc_cell": false,
   "toc_position": {},
   "toc_section_display": true,
   "toc_window_display": false
  }
 },
 "nbformat": 4,
 "nbformat_minor": 4
}